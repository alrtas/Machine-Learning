#features (1 sim, 0 não)
# Pelo longo?
# Perna curta?
# Faz au au?

porco1 = [0, 1, 0]
porco2 = [1, 1, 0]
porco3 = [1, 1, 0]

cachorro1 = [0, 1, 1]
cachorro2 = [1, 0, 1]
cachorro3 = [1, 1, 1]

# 1 => porco, 0 => cachorro
dados = [porco1, porco2, porco3, cachorro1, cachorro2, cachorro3]
classes = [1,1,1,0,0,0]

from sklearn.svm import LinearSVC

model = LinearSVC()
model.fit(dados, classes)

animal_misterioso = [1, 1, 1]
model.predict([animal_misterioso])

misterio1 = [1, 1, 1]
misterio2 = [1, 1, 0]
misterio3 = [0, 1, 1]

testes = [misterio1, misterio2, misterio3]
model.predict(testes)

#Resultado que deveria aparecer (exemplo)
#Resultado esperado = [0,1,1]
#66% de acerto

testes_classes = [0, 1, 1]
previsoes = model.predict(testes)
previsoes == testes_classes

corretos = (previsoes == testes_classes).sum()
#Devolve número de verdadeiros
total = len(testes)
#conta numero de dados no arrays

taxa_de_acerto = ((corretos/total)*100)
print("taxa de acerto:", taxa_de_acerto)


from sklearn.metrics import accuracy_score
taxa_de_acerto = accuracy_score(testes_classes, previsoes)
print("Taxa de acerto:", taxa_de_acerto*100)
