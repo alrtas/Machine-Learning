import pandas as pd
uri="https://gist.githubusercontent.com/guilhermesilveira/1b7d5475863c15f484ac495bd70975cf/raw/16aff7a0aee67e7c100a2a48b676a2d2d142f646/projects.csv"
dados = pd.read_csv(uri)
dados.head() #le os 5 primeiros
a_renomear = {
    'unfinished':'nao_finalizado',
    'expected_hours':'horas_esperadas',
    'price':'preco'
}
dados = dados.rename(columns = a_renomear)
dados.head()
troca = {
    0:1,
    1:0
}
dados['finalizado'] = dados.nao_finalizado.map(troca)
dados.head()
dados.tail()

import seaborn as sns
#sns.scatterplot(x="horas_esperadas", y="preco", data=dados)
#sns.scatterplot(x="horas_esperadas", y="preco", hue="finalizado", data=dados)
#sns.relplot(x="horas_esperadas", y="preco", hue="finalizado",col="finalizado", data=dados)


x = dados [['horas_esperadas','preco']]
y = dados[['finalizado']]

from sklearn.model_selection import train_test_split
from sklearn.svm import LinearSVC
from sklearn.metrics import accuracy_score

SEED = 20

treino_x, teste_x, treino_y, teste_y = train_test_split(x, y, random_state = SEED, test_size = 0.25)
print("Treino com %d elementos e teste com %d elementos" % (len(treino_x), len(teste_x)))

modelo = LinearSVC()
modelo.fit(treino_x, treino_y)
previsoes = modelo.predict(teste_x)
acuracia = accuracy_score(teste_y, previsoes)*100
print("Acuracia de: %.2f%%" % acuracia)


import numpy as np
previsoes_de_base = np.ones(540)

acuracia = accuracy_score(teste_y, previsoes_de_base)*100
print("Acuracia de baseline: %.2f%%" % acuracia)


x_min = teste_x.horas_esperadas.max()
x_max = teste_x.horas_esperadas.min()
y_min = teste_x.preco.min()
y_max = teste_x.preco.max()

print(x_max, x_min,y_min,y_max)
pixels = 100
eixo_x = np.arange(x_min, x_max, (x_max-x_min)/pixels)
eixo_y = np.arange(y_min, y_max, (y_max-y_min)/pixels)

xx, yy = np.meshgrid(eixo_x, eixo_y)
pontos = np.c_[xx.ravel(), yy.ravel()]
print(pontos)
Z = modelo.predict(pontos)
Z = Z.reshape(xx.shape)
Z

#sns.scatterplot(x="horas_esperadas", y="preco", hue=teste_y.finalizado, data=teste_x)

import matplotlib.pyplot as plt
plt.contourf(xx, yy, Z, alpha=0.3)
plt.scatter(teste_x.horas_esperadas, teste_x.preco, c=teste_y.finalizado, s=1)
