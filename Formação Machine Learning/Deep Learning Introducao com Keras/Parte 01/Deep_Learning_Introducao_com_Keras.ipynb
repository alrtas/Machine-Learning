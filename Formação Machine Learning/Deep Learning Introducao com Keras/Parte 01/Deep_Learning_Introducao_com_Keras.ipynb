{
  "nbformat": 4,
  "nbformat_minor": 0,
  "metadata": {
    "colab": {
      "name": "Deep Learning Introducao com Keras.ipynb",
      "provenance": []
    },
    "kernelspec": {
      "name": "python3",
      "display_name": "Python 3"
    }
  },
  "cells": [
    {
      "cell_type": "markdown",
      "metadata": {
        "id": "0V64lMPmVc1y",
        "colab_type": "text"
      },
      "source": [
        "Imports"
      ]
    },
    {
      "cell_type": "code",
      "metadata": {
        "id": "uAmHOfiQVO2f",
        "colab_type": "code",
        "colab": {}
      },
      "source": [
        "#Imports\n",
        "import tensorflow as tf\n",
        "import numpy as np\n",
        "from tensorflow import keras\n",
        "import matplotlib.pyplot as plt"
      ],
      "execution_count": 1,
      "outputs": []
    },
    {
      "cell_type": "markdown",
      "metadata": {
        "id": "6M6CtuF8Vf6m",
        "colab_type": "text"
      },
      "source": [
        "Carregar o dataset"
      ]
    },
    {
      "cell_type": "code",
      "metadata": {
        "id": "p52b0sYeVWvf",
        "colab_type": "code",
        "colab": {}
      },
      "source": [
        "#Carregar o dataset\n",
        "dataset = keras.datasets.fashion_mnist\n",
        "((imagens_treino, identificacoes_treino),(imagens_teste, identificacoes_teste)) = dataset.load_data()"
      ],
      "execution_count": 2,
      "outputs": []
    },
    {
      "cell_type": "markdown",
      "metadata": {
        "id": "EC5VuVqPVmH5",
        "colab_type": "text"
      },
      "source": [
        "Exploracao dos dados"
      ]
    },
    {
      "cell_type": "code",
      "metadata": {
        "id": "MzG2xoZ0VYtH",
        "colab_type": "code",
        "colab": {
          "base_uri": "https://localhost:8080/",
          "height": 35
        },
        "outputId": "e36c565c-6e71-4077-9fc5-e1a883754547"
      },
      "source": [
        "#explorar os dados\n",
        "'''imagens_treino.shape\n",
        "len(identificacoes_treino)\n",
        "imagens_teste.shape\n",
        "len(identificacoes_teste)\n",
        "identificacoes_treino.max()\n",
        "identificacoes_treino.min()'''"
      ],
      "execution_count": 3,
      "outputs": [
        {
          "output_type": "execute_result",
          "data": {
            "application/vnd.google.colaboratory.intrinsic": {
              "type": "string"
            },
            "text/plain": [
              "'imagens_treino.shape\\nlen(identificacoes_treino)\\nimagens_teste.shape\\nlen(identificacoes_teste)\\nidentificacoes_treino.max()\\nidentificacoes_treino.min()'"
            ]
          },
          "metadata": {
            "tags": []
          },
          "execution_count": 3
        }
      ]
    },
    {
      "cell_type": "markdown",
      "metadata": {
        "id": "SW26k2C4Vpav",
        "colab_type": "text"
      },
      "source": [
        "Exibição dos dados"
      ]
    },
    {
      "cell_type": "code",
      "metadata": {
        "id": "JzGasHAYITSL",
        "colab_type": "code",
        "colab": {
          "base_uri": "https://localhost:8080/",
          "height": 297
        },
        "outputId": "e0bdfcb6-3ca1-40d3-c3a9-47555b1c3492"
      },
      "source": [
        "#exibir os dados\n",
        "total_de_classificacoes = 10\n",
        "nomes_de_classificacoes = ['Camiseta', 'Calça', 'Pullover', 'Vestido', 'Casaco', 'Sandália', 'Camisa', 'Tênis', 'Bolsa', 'Bota']\n",
        "\n",
        "plt.imshow(imagens_treino[0])\n",
        "'''plt.title(identificacoes_treino[0])\n",
        "print(nomes_de_classificacoes[9])\n",
        "for imagem in range(10):\n",
        "  plt.subplot(2, 5, imagem+1)\n",
        "  plt.imshow(imagens_treino[imagem])\n",
        "  plt.title(nomes_de_classificacoes[imagem])\n",
        "'''\n",
        "plt.imshow(imagens_treino[0])\n",
        "plt.colorbar()\n",
        "plt.title(nomes_de_classificacoes[9])"
      ],
      "execution_count": 4,
      "outputs": [
        {
          "output_type": "execute_result",
          "data": {
            "text/plain": [
              "Text(0.5, 1.0, 'Bota')"
            ]
          },
          "metadata": {
            "tags": []
          },
          "execution_count": 4
        },
        {
          "output_type": "display_data",
          "data": {
            "image/png": "[encoded data removed]",
            "text/plain": [
              "<Figure size 432x288 with 2 Axes>"
            ]
          },
          "metadata": {
            "tags": [],
            "needs_background": "light"
          }
        }
      ]
    },
    {
      "cell_type": "code",
      "metadata": {
        "id": "K1ckibG8NwVB",
        "colab_type": "code",
        "colab": {
          "base_uri": "https://localhost:8080/",
          "height": 180
        },
        "outputId": "e72f8085-49fb-4edd-b9ff-df44200e42fb"
      },
      "source": [
        "imagens_treino = imagens_treino/255.0 #normalização de 0-255 para 0-1\n",
        "\n",
        "modelo = keras.Sequential([\n",
        "    keras.layers.Flatten(input_shape = (28, 28)),        #trasnforma de 28x28 em 1x784\n",
        "    keras.layers.Dense(256, activation = tf.nn.relu),    #conecta os layes Unidade Linear Retificada\n",
        "    #keras.layers.Dense(128, activation = tf.nn.relu),\n",
        "    #keras.layers.Dense(64, activation = tf.nn.relu),    #increases the losses\n",
        "    keras.layers.Dense(10, activation = tf.nn.softmax)   #defini as problabilidades das camadas anteriores e escolhe\n",
        "])\n",
        "  \n",
        "modelo.compile(optimizer = 'adam', loss = 'sparse_categorical_crossentropy', metrics=['accuracy'])\n",
        "\n",
        "historico = modelo.fit(imagens_treino, identificacoes_treino, epochs = 5, validation_split=0.2)"
      ],
      "execution_count": 11,
      "outputs": [
        {
          "output_type": "stream",
          "text": [
            "Epoch 1/5\n",
            "1500/1500 [==============================] - 4s 3ms/step - loss: 1.0428 - accuracy: 0.6711 - val_loss: 0.6754 - val_accuracy: 0.7554\n",
            "Epoch 2/5\n",
            "1500/1500 [==============================] - 4s 2ms/step - loss: 0.6210 - accuracy: 0.7760 - val_loss: 0.5750 - val_accuracy: 0.7899\n",
            "Epoch 3/5\n",
            "1500/1500 [==============================] - 4s 3ms/step - loss: 0.5485 - accuracy: 0.8047 - val_loss: 0.5263 - val_accuracy: 0.8133\n",
            "Epoch 4/5\n",
            "1500/1500 [==============================] - 4s 2ms/step - loss: 0.5080 - accuracy: 0.8207 - val_loss: 0.4984 - val_accuracy: 0.8245\n",
            "Epoch 5/5\n",
            "1500/1500 [==============================] - 4s 2ms/step - loss: 0.4814 - accuracy: 0.8300 - val_loss: 0.4774 - val_accuracy: 0.8298\n"
          ],
          "name": "stdout"
        }
      ]
    },
    {
      "cell_type": "code",
      "metadata": {
        "id": "EOZMatqt5Z3G",
        "colab_type": "code",
        "colab": {
          "base_uri": "https://localhost:8080/",
          "height": 158
        },
        "outputId": "a8d9eb83-8dfd-42eb-bb14-0a7bcf6f1d48"
      },
      "source": [
        ""
      ],
      "execution_count": 21,
      "outputs": [
        {
          "output_type": "error",
          "ename": "AttributeError",
          "evalue": "ignored",
          "traceback": [
            "\u001b[0;31m---------------------------------------------------------------------------\u001b[0m",
            "\u001b[0;31mAttributeError\u001b[0m                            Traceback (most recent call last)",
            "\u001b[0;32m<ipython-input-21-c4a98f7661b1>\u001b[0m in \u001b[0;36m<module>\u001b[0;34m()\u001b[0m\n\u001b[0;32m----> 1\u001b[0;31m \u001b[0mprint\u001b[0m\u001b[0;34m(\u001b[0m\u001b[0mhistorico\u001b[0m\u001b[0;34m.\u001b[0m\u001b[0mcallbacks\u001b[0m \u001b[0;34m)\u001b[0m\u001b[0;34m\u001b[0m\u001b[0;34m\u001b[0m\u001b[0m\n\u001b[0m",
            "\u001b[0;31mAttributeError\u001b[0m: 'History' object has no attribute 'callbacks'"
          ]
        }
      ]
    },
    {
      "cell_type": "code",
      "metadata": {
        "id": "qy805D1q4vR-",
        "colab_type": "code",
        "colab": {
          "base_uri": "https://localhost:8080/",
          "height": 223
        },
        "outputId": "7ac0fa8f-e179-43e7-a6ea-0f7e76e67701"
      },
      "source": [
        "plt.plot(historico.history['acc'])\n",
        "plt.plot(historico.history['val_acc'])\n",
        "plt.title('Acuracia por epocas')\n",
        "plt.xlabel('Epochs')\n",
        "plt.ylabel('Acuracia')"
      ],
      "execution_count": 22,
      "outputs": [
        {
          "output_type": "error",
          "ename": "KeyError",
          "evalue": "ignored",
          "traceback": [
            "\u001b[0;31m---------------------------------------------------------------------------\u001b[0m",
            "\u001b[0;31mKeyError\u001b[0m                                  Traceback (most recent call last)",
            "\u001b[0;32m<ipython-input-22-fc4167f789ce>\u001b[0m in \u001b[0;36m<module>\u001b[0;34m()\u001b[0m\n\u001b[0;32m----> 1\u001b[0;31m \u001b[0mplt\u001b[0m\u001b[0;34m.\u001b[0m\u001b[0mplot\u001b[0m\u001b[0;34m(\u001b[0m\u001b[0mhistorico\u001b[0m\u001b[0;34m.\u001b[0m\u001b[0mhistory\u001b[0m\u001b[0;34m[\u001b[0m\u001b[0;34m'acc'\u001b[0m\u001b[0;34m]\u001b[0m\u001b[0;34m)\u001b[0m\u001b[0;34m\u001b[0m\u001b[0;34m\u001b[0m\u001b[0m\n\u001b[0m\u001b[1;32m      2\u001b[0m \u001b[0mplt\u001b[0m\u001b[0;34m.\u001b[0m\u001b[0mplot\u001b[0m\u001b[0;34m(\u001b[0m\u001b[0mhistorico\u001b[0m\u001b[0;34m.\u001b[0m\u001b[0mhistory\u001b[0m\u001b[0;34m[\u001b[0m\u001b[0;34m'val_acc'\u001b[0m\u001b[0;34m]\u001b[0m\u001b[0;34m)\u001b[0m\u001b[0;34m\u001b[0m\u001b[0;34m\u001b[0m\u001b[0m\n\u001b[1;32m      3\u001b[0m \u001b[0mplt\u001b[0m\u001b[0;34m.\u001b[0m\u001b[0mtitle\u001b[0m\u001b[0;34m(\u001b[0m\u001b[0;34m'Acuracia por epocas'\u001b[0m\u001b[0;34m)\u001b[0m\u001b[0;34m\u001b[0m\u001b[0;34m\u001b[0m\u001b[0m\n\u001b[1;32m      4\u001b[0m \u001b[0mplt\u001b[0m\u001b[0;34m.\u001b[0m\u001b[0mxlabel\u001b[0m\u001b[0;34m(\u001b[0m\u001b[0;34m'Epochs'\u001b[0m\u001b[0;34m)\u001b[0m\u001b[0;34m\u001b[0m\u001b[0;34m\u001b[0m\u001b[0m\n\u001b[1;32m      5\u001b[0m \u001b[0mplt\u001b[0m\u001b[0;34m.\u001b[0m\u001b[0mylabel\u001b[0m\u001b[0;34m(\u001b[0m\u001b[0;34m'Acuracia'\u001b[0m\u001b[0;34m)\u001b[0m\u001b[0;34m\u001b[0m\u001b[0;34m\u001b[0m\u001b[0m\n",
            "\u001b[0;31mKeyError\u001b[0m: 'acc'"
          ]
        }
      ]
    },
    {
      "cell_type": "code",
      "metadata": {
        "id": "FTRWFU5ZWgWT",
        "colab_type": "code",
        "colab": {
          "base_uri": "https://localhost:8080/",
          "height": 50
        },
        "outputId": "2c0bb9f9-ede3-4352-c077-a462334bc4c7"
      },
      "source": [
        "testes = modelo.predict(imagens_teste)\n",
        "print('Resultado teste: ', np.argmax(testes[1]))\n",
        "print('Numero da imagem de teste: ',identificacoes_teste[1])"
      ],
      "execution_count": 6,
      "outputs": [
        {
          "output_type": "stream",
          "text": [
            "Resultado teste:  2\n",
            "Numero da imagem de teste:  2\n"
          ],
          "name": "stdout"
        }
      ]
    },
    {
      "cell_type": "code",
      "metadata": {
        "id": "qCiBJFhGVOHM",
        "colab_type": "code",
        "colab": {
          "base_uri": "https://localhost:8080/",
          "height": 66
        },
        "outputId": "37b894ed-e95f-4e19-f66f-44ff4732cb5e"
      },
      "source": [
        "perda_teste, acuracia_teste = modelo.evaluate(imagens_teste, identificacoes_teste)\n",
        "print('Perda teste: ', perda_teste)\n",
        "print('Acurarica teste; ', acuracia_teste*100)"
      ],
      "execution_count": 7,
      "outputs": [
        {
          "output_type": "stream",
          "text": [
            "313/313 [==============================] - 0s 1ms/step - loss: 48.4696 - accuracy: 0.8746\n",
            "Perda teste:  48.469600677490234\n",
            "Acurarica teste;  87.45999932289124\n"
          ],
          "name": "stdout"
        }
      ]
    },
    {
      "cell_type": "code",
      "metadata": {
        "id": "oZ9o0uFk2w_G",
        "colab_type": "code",
        "colab": {}
      },
      "source": [
        ""
      ],
      "execution_count": null,
      "outputs": []
    },
    {
      "cell_type": "code",
      "metadata": {
        "id": "Abgjc6tn4opf",
        "colab_type": "code",
        "colab": {}
      },
      "source": [
        ""
      ],
      "execution_count": null,
      "outputs": []
    }
  ]
}