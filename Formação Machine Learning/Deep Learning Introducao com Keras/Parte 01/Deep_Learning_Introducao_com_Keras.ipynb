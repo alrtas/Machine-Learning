{
  "nbformat": 4,
  "nbformat_minor": 0,
  "metadata": {
    "colab": {
      "name": "Deep Learning Introducao com Keras.ipynb",
      "provenance": []
    },
    "kernelspec": {
      "name": "python3",
      "display_name": "Python 3"
    }
  },
  "cells": [
    {
      "cell_type": "markdown",
      "metadata": {
        "id": "0V64lMPmVc1y",
        "colab_type": "text"
      },
      "source": [
        "Imports"
      ]
    },
    {
      "cell_type": "code",
      "metadata": {
        "id": "uAmHOfiQVO2f",
        "colab_type": "code",
        "colab": {}
      },
      "source": [
        "#Imports\n",
        "import tensorflow as tf\n",
        "import numpy as np\n",
        "from tensorflow import keras\n",
        "import matplotlib.pyplot as plt\n",
        "from tensorflow.keras.models import load_model "
      ],
      "execution_count": 21,
      "outputs": []
    },
    {
      "cell_type": "markdown",
      "metadata": {
        "id": "6M6CtuF8Vf6m",
        "colab_type": "text"
      },
      "source": [
        "Carregar o dataset"
      ]
    },
    {
      "cell_type": "code",
      "metadata": {
        "id": "p52b0sYeVWvf",
        "colab_type": "code",
        "colab": {}
      },
      "source": [
        "#Carregar o dataset\n",
        "dataset = keras.datasets.fashion_mnist\n",
        "((imagens_treino, identificacoes_treino),(imagens_teste, identificacoes_teste)) = dataset.load_data()"
      ],
      "execution_count": 2,
      "outputs": []
    },
    {
      "cell_type": "markdown",
      "metadata": {
        "id": "EC5VuVqPVmH5",
        "colab_type": "text"
      },
      "source": [
        "Exploracao dos dados"
      ]
    },
    {
      "cell_type": "code",
      "metadata": {
        "id": "MzG2xoZ0VYtH",
        "colab_type": "code",
        "colab": {
          "base_uri": "https://localhost:8080/",
          "height": 35
        },
        "outputId": "3add35b5-d1be-4d75-fc2f-22ff850936c7"
      },
      "source": [
        "#explorar os dados\n",
        "'''imagens_treino.shape\n",
        "len(identificacoes_treino)\n",
        "imagens_teste.shape\n",
        "len(identificacoes_teste)\n",
        "identificacoes_treino.max()\n",
        "identificacoes_treino.min()'''"
      ],
      "execution_count": 3,
      "outputs": [
        {
          "output_type": "execute_result",
          "data": {
            "application/vnd.google.colaboratory.intrinsic": {
              "type": "string"
            },
            "text/plain": [
              "'imagens_treino.shape\\nlen(identificacoes_treino)\\nimagens_teste.shape\\nlen(identificacoes_teste)\\nidentificacoes_treino.max()\\nidentificacoes_treino.min()'"
            ]
          },
          "metadata": {
            "tags": []
          },
          "execution_count": 3
        }
      ]
    },
    {
      "cell_type": "markdown",
      "metadata": {
        "id": "SW26k2C4Vpav",
        "colab_type": "text"
      },
      "source": [
        "Exibição dos dados"
      ]
    },
    {
      "cell_type": "code",
      "metadata": {
        "id": "JzGasHAYITSL",
        "colab_type": "code",
        "colab": {
          "base_uri": "https://localhost:8080/",
          "height": 297
        },
        "outputId": "1ba8ed0b-f3d8-47f2-e723-30c966a408b2"
      },
      "source": [
        "#exibir os dados\n",
        "total_de_classificacoes = 10\n",
        "nomes_de_classificacoes = ['Camiseta', 'Calça', 'Pullover', 'Vestido', 'Casaco', 'Sandália', 'Camisa', 'Tênis', 'Bolsa', 'Bota']\n",
        "\n",
        "plt.imshow(imagens_treino[0])\n",
        "'''plt.title(identificacoes_treino[0])\n",
        "print(nomes_de_classificacoes[9])\n",
        "for imagem in range(10):\n",
        "  plt.subplot(2, 5, imagem+1)\n",
        "  plt.imshow(imagens_treino[imagem])\n",
        "  plt.title(nomes_de_classificacoes[imagem])\n",
        "'''\n",
        "plt.imshow(imagens_treino[0])\n",
        "plt.colorbar()\n",
        "plt.title(nomes_de_classificacoes[9])"
      ],
      "execution_count": 4,
      "outputs": [
        {
          "output_type": "execute_result",
          "data": {
            "text/plain": [
              "Text(0.5, 1.0, 'Bota')"
            ]
          },
          "metadata": {
            "tags": []
          },
          "execution_count": 4
        },
        {
          "output_type": "display_data",
          "data": {
            "image/png": "[encoded data removed]",
            "text/plain": [
              "<Figure size 432x288 with 2 Axes>"
            ]
          },
          "metadata": {
            "tags": [],
            "needs_background": "light"
          }
        }
      ]
    },
    {
      "cell_type": "markdown",
      "metadata": {
        "id": "Ku7M86gFidSV",
        "colab_type": "text"
      },
      "source": [
        "Criação do modelo de predição"
      ]
    },
    {
      "cell_type": "code",
      "metadata": {
        "id": "K1ckibG8NwVB",
        "colab_type": "code",
        "colab": {
          "base_uri": "https://localhost:8080/",
          "height": 212
        },
        "outputId": "1216f871-9fc7-4546-e5ef-9ac703f7f4b2"
      },
      "source": [
        "imagens_treino = imagens_treino/255.0 #normalização de 0-255 para 0-1\n",
        "\n",
        "modelo = keras.Sequential([\n",
        "    keras.layers.Flatten(input_shape = (28, 28)),        #trasnforma de 28x28 em 1x784\n",
        "    keras.layers.Dense(256, activation = tf.nn.relu),    #conecta os layes Unidade Linear Retificada\n",
        "    keras.layers.Dropout(0.2),\n",
        "    #keras.layers.Dense(128, activation = tf.nn.relu),\n",
        "    #keras.layers.Dense(64, activation = tf.nn.relu),    #increases the losses\n",
        "    keras.layers.Dense(10, activation = tf.nn.softmax)   #defini as problabilidades das camadas anteriores e escolhe\n",
        "])\n",
        "  \n",
        "modelo.compile(optimizer = 'adam', loss = 'sparse_categorical_crossentropy', metrics=['accuracy'])\n",
        "\n",
        "#historico = modelo.fit(imagens_treino, identificacoes_treino, epochs = 5, validation_split=0.2) #under fit\n",
        "#historico = modelo.fit(imagens_treino, identificacoes_treino, epochs = 10, validation_split=0.2) #over fit\n",
        "historico = modelo.fit(imagens_treino, identificacoes_treino, epochs = 6, validation_split=0.2)"
      ],
      "execution_count": 14,
      "outputs": [
        {
          "output_type": "stream",
          "text": [
            "Epoch 1/6\n",
            "1500/1500 [==============================] - 4s 3ms/step - loss: 1.0999 - accuracy: 0.6435 - val_loss: 0.7029 - val_accuracy: 0.7528\n",
            "Epoch 2/6\n",
            "1500/1500 [==============================] - 4s 3ms/step - loss: 0.6612 - accuracy: 0.7609 - val_loss: 0.5906 - val_accuracy: 0.7862\n",
            "Epoch 3/6\n",
            "1500/1500 [==============================] - 4s 3ms/step - loss: 0.5834 - accuracy: 0.7901 - val_loss: 0.5372 - val_accuracy: 0.8075\n",
            "Epoch 4/6\n",
            "1500/1500 [==============================] - 4s 3ms/step - loss: 0.5386 - accuracy: 0.8068 - val_loss: 0.5051 - val_accuracy: 0.8200\n",
            "Epoch 5/6\n",
            "1500/1500 [==============================] - 4s 3ms/step - loss: 0.5074 - accuracy: 0.8197 - val_loss: 0.4835 - val_accuracy: 0.8273\n",
            "Epoch 6/6\n",
            "1500/1500 [==============================] - 4s 3ms/step - loss: 0.4862 - accuracy: 0.8278 - val_loss: 0.4661 - val_accuracy: 0.8307\n"
          ],
          "name": "stdout"
        }
      ]
    },
    {
      "cell_type": "markdown",
      "metadata": {
        "id": "farW9Pm7iiH3",
        "colab_type": "text"
      },
      "source": [
        "Salvando e importando o modelo criado acima"
      ]
    },
    {
      "cell_type": "code",
      "metadata": {
        "id": "9OYz409dhR7f",
        "colab_type": "code",
        "colab": {}
      },
      "source": [
        "modelo.save('modelo.h5')\n",
        "modelo_salvo = load_model('modelo.h5')"
      ],
      "execution_count": 22,
      "outputs": []
    },
    {
      "cell_type": "markdown",
      "metadata": {
        "id": "I_fas97RilFl",
        "colab_type": "text"
      },
      "source": [
        "PLOT do gráfico de Acurárica por epocas"
      ]
    },
    {
      "cell_type": "code",
      "metadata": {
        "id": "qy805D1q4vR-",
        "colab_type": "code",
        "colab": {
          "base_uri": "https://localhost:8080/",
          "height": 311
        },
        "outputId": "9ae9a85a-e06b-4d8f-b573-f2dbf672e31d"
      },
      "source": [
        "plt.plot(historico.history['accuracy'])\n",
        "plt.plot(historico.history['val_accuracy'])\n",
        "plt.title('Acuracia por epocas')\n",
        "plt.xlabel('Epocas')\n",
        "plt.ylabel('Acuracia')\n",
        "plt.legend(['Treino','Validação'])"
      ],
      "execution_count": 15,
      "outputs": [
        {
          "output_type": "execute_result",
          "data": {
            "text/plain": [
              "<matplotlib.legend.Legend at 0x7f20d7b2c4e0>"
            ]
          },
          "metadata": {
            "tags": []
          },
          "execution_count": 15
        },
        {
          "output_type": "display_data",
          "data": {
            "image/png": "[encoded data removed]",
            "text/plain": [
              "<Figure size 432x288 with 1 Axes>"
            ]
          },
          "metadata": {
            "tags": [],
            "needs_background": "light"
          }
        }
      ]
    },
    {
      "cell_type": "markdown",
      "metadata": {
        "id": "94rZeWNfiyAD",
        "colab_type": "text"
      },
      "source": [
        "Testando a predição do modelo"
      ]
    },
    {
      "cell_type": "code",
      "metadata": {
        "id": "FTRWFU5ZWgWT",
        "colab_type": "code",
        "colab": {
          "base_uri": "https://localhost:8080/",
          "height": 82
        },
        "outputId": "61149c74-1504-47f3-9e27-9313401be359"
      },
      "source": [
        "testes = modelo.predict(imagens_teste)\n",
        "print('Resultado previsto: ', np.argmax(testes[1732]))\n",
        "print('Resultado real: ',identificacoes_teste[1732])\n",
        "testes = modelo.predict(imagens_teste)\n",
        "print('Resultado previsto: ', np.argmax(testes[1722]))\n",
        "print('Resultado real: ',identificacoes_teste[1722])"
      ],
      "execution_count": 16,
      "outputs": [
        {
          "output_type": "stream",
          "text": [
            "Resultado previsto:  4\n",
            "Resultado real:  2\n",
            "Resultado previsto:  7\n",
            "Resultado real:  7\n"
          ],
          "name": "stdout"
        }
      ]
    },
    {
      "cell_type": "code",
      "metadata": {
        "id": "qCiBJFhGVOHM",
        "colab_type": "code",
        "colab": {
          "base_uri": "https://localhost:8080/",
          "height": 66
        },
        "outputId": "659a1e1d-9a76-4b30-8a6f-334b1c1179a4"
      },
      "source": [
        "perda_teste, acuracia_teste = modelo.evaluate(imagens_teste, identificacoes_teste)\n",
        "print('Perda teste: ', perda_teste)\n",
        "print('Acurarica teste; ', acuracia_teste*100)"
      ],
      "execution_count": 17,
      "outputs": [
        {
          "output_type": "stream",
          "text": [
            "313/313 [==============================] - 0s 2ms/step - loss: 18286.7637 - accuracy: 0.7149\n",
            "Perda teste:  18286.763671875\n",
            "Acurarica teste;  71.4900016784668\n"
          ],
          "name": "stdout"
        }
      ]
    },
    {
      "cell_type": "markdown",
      "metadata": {
        "id": "qL0ccInqipNH",
        "colab_type": "text"
      },
      "source": [
        "PLOT do gráfico de perdas por epocas"
      ]
    },
    {
      "cell_type": "code",
      "metadata": {
        "id": "oZ9o0uFk2w_G",
        "colab_type": "code",
        "colab": {
          "base_uri": "https://localhost:8080/",
          "height": 311
        },
        "outputId": "e6108ebf-4cb8-4e95-d9c6-9ffb4ba88a1c"
      },
      "source": [
        "plt.plot(historico.history['loss'])\n",
        "plt.plot(historico.history['val_loss'])\n",
        "plt.title('Perdas por epocas')\n",
        "plt.xlabel('Epocas')\n",
        "plt.ylabel('Perdas')\n",
        "plt.legend(['Treino','Validação'])"
      ],
      "execution_count": 28,
      "outputs": [
        {
          "output_type": "execute_result",
          "data": {
            "text/plain": [
              "<matplotlib.legend.Legend at 0x7f20d35dda20>"
            ]
          },
          "metadata": {
            "tags": []
          },
          "execution_count": 28
        },
        {
          "output_type": "display_data",
          "data": {
            "image/png": "[encoded data removed]",
            "text/plain": [
              "<Figure size 432x288 with 1 Axes>"
            ]
          },
          "metadata": {
            "tags": [],
            "needs_background": "light"
          }
        }
      ]
    },
    {
      "cell_type": "markdown",
      "metadata": {
        "id": "EwlEZbYWi0Mv",
        "colab_type": "text"
      },
      "source": [
        "Testando a predição do modelo SALVO"
      ]
    },
    {
      "cell_type": "code",
      "metadata": {
        "id": "Abgjc6tn4opf",
        "colab_type": "code",
        "colab": {
          "base_uri": "https://localhost:8080/",
          "height": 50
        },
        "outputId": "c5435b55-39ca-4d46-c022-413a50dc872f"
      },
      "source": [
        "testes_modelo_salvo = modelo_salvo.predict(imagens_teste)\n",
        "print('resultado teste modelo salvo: ', np.argmax(testes_modelo_salvo[1]))\n",
        "print('Resultado real: ',identificacoes_teste[1732])"
      ],
      "execution_count": 27,
      "outputs": [
        {
          "output_type": "stream",
          "text": [
            "resultado teste modelo salvo:  2\n",
            "Resultado real:  2\n"
          ],
          "name": "stdout"
        }
      ]
    },
    {
      "cell_type": "code",
      "metadata": {
        "id": "cpiATIuth6EH",
        "colab_type": "code",
        "colab": {}
      },
      "source": [
        ""
      ],
      "execution_count": null,
      "outputs": []
    }
  ]
}