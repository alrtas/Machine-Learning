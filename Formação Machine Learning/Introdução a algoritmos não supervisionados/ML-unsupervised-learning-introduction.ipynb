import pandas as pd
uri =  'https://raw.githubusercontent.com/alura-cursos/machine-learning-algoritmos-nao-supervisionados/master/movies.csv'
filmes = pd.read_csv(uri)
filmes.columns = ['filme_id', 'titulo', 'generos']
generos = filmes.generos.str.get_dummies()
dados_filmes = pd.concat([filmes, generos], axis=1)
dados_filmes.head()

from sklearn.preprocessing import StandardScaler

scaler = StandardScaler()
generos_escalados = scaler.fit_transform(generos)
generos_escalados.shape


from sklearn.cluster import KMeans

modelo = KMeans(n_clusters=3)

modelo.fit(generos_escalados)

#print('Grupos KMeans: {}'.format(modelo.labels_))
#print(generos.columns)
#print(modelo.cluster_centers_)
grupos = pd.DataFrame(modelo.cluster_centers_, columns = generos.columns)

grupos.transpose().plot.bar(subplots=True,
                figsize=(25,25),
                sharex=False)

grupo = 0

filtro = modelo.labels_==grupo

dados_filmes[filtro].sample(10)


#2 blob
from sklearn.datasets import make_blobs
dados, _ = make_blobs(n_samples=1000, n_features=2, random_state=7)
dados = pd.DataFrame(dados, columns=['coluna1','coluna2'])

import matplotlib.pyplot as plt

plt.scatter(x=dados.coluna1, y=dados.coluna2
            )
# 3 blob
modelo = KMeans(n_clusters = 3)
grupos = modelo.fit_predict(dados)
plt.scatter(x=dados.coluna1, y=dados.coluna2,c=grupos,cmap='viridis')

#4 blob
centroides = modelo.cluster_centers_
plt.scatter(dados.coluna1, dados.coluna2,
            c=grupos,
           cmap='viridis')
plt.scatter(centroides[:, 0], centroides[:, 1],
           marker='X', s=169, linewidths=5,
           color='g', zorder=8)
#5 blob
 from sklearn.manifold import TSNE

 tsne = TSNE()

 visualizacao = tsne.fit_transform(generos_escalados)
 visualizacao

#6 blob
 import seaborn as sns
 sns.set(rc={'figure.figsize':(13,13)})

 sns.scatterplot(x=visualizacao[:, 0],
                 y=visualizacao[:, 1],
                 hue=modelo.labels_,
                 palette=sns.color_palette('Set1',3))

#7 blob
modelo = KMeans(n_clusters=20)
modelo.fit(generos_escalados)
grupos= pd.DataFrame(modelo.cluster_centers_,
             columns = generos.columns)
grupos.transpose().plot.bar(subplots=True,
                figsize=(25,50),
                sharex=False,
                rot=0)

#8 blob
def kmeans(numero_de_clusters, generos):
  modelo = KMeans(n_clusters=numero_de_clusters)
  modelo.fit(generos)
  return [numero_de_clusters, modelo.inertia_]

#9 blob
kmeans(20, generos_escalados)
kmeans(3, generos_escalados)
resultado = [kmeans(numero_de_grupos, generos_escalados) for numero_de_grupos in range(1, 41)]
resultado = pd.DataFrame(resultado, columns=['clusters','inertia'])
resultado.head()

#10 blob
resultado.inertia.plot(xticks=resultado.clusters)
#elbow method

#11 blob
modelo = KMeans(n_clusters=17)
modelo.fit(generos_escalados)
grupos= pd.DataFrame(modelo.cluster_centers_,
             columns = generos.columns)
grupos.transpose().plot.bar(subplots=True,
                figsize=(25,50),
                sharex=False,
                rot=0)
#12 blob
from sklearn.cluster import AgglomerativeClustering
modelo = AgglomerativeClustering(n_clusters=17)
grupos= modelo.fit_predict(generos_escalados)
grupos

tsne = TSNE()
visualizacao = tsne.fit_transform(generos_escalados)
visualizacao

#13 blob
sns.scatterplot(x=visualizacao[:,0],
                y=visualizacao[:,1],
                hue=grupos,
                palette=sns.color_palette('Set1',17))


#14 blob
from scipy.cluster.hierarchy import dendrogram, linkage

modelo = KMeans(n_clusters=17)
modelo.fit(generos_escalados)
grupos= pd.DataFrame(modelo.cluster_centers_,
             columns = generos.columns)
grupos.transpose().plot.bar(subplots=True,
                figsize=(25,50),
                sharex=False,
                rot=0)
#15 blob
matriz_de_distancia = linkage(grupos)
matriz_de_distancia

dendrograma = dendrogram(matriz_de_distancia)
dendrograma