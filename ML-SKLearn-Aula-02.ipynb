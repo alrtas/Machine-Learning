import pandas as pd
uri = "https://gist.githubusercontent.com/guilhermesilveira/2d2efa37d66b6c84a722ea627a897ced/raw/10968b997d885cbded1c92938c7a9912ba41c615/tracking.csv"
dados = pd.read_csv(uri) #le arquivos csv
dados.head() #le primeiras 5 linhas
x = dados[["home","how_it_works","contact"]] #separa colunas especifica
y = dados[["bought"]] 
y.head()
mapa = {
    "home" : "principal",
    "how_it_works" : "como_funciona",
    "contact" : "contato",
    "bought" : "comprou"
}

dados.rename (columns = mapa)
dados.shape # resultado (linhas, coluna)

#Teste em 75%, validação em 25%
treino_x = x[:75]
treino_y = y[:75]
teste_x = x[75:]
teste_y = y[75:]

print("Treinaremos com %d elementos e testaremos com %d elementos" % (len(treino_x), len(teste_x)))


from sklearn.svm import LinearSVC
modelo = LinearSVC
modelo.fit(treino_x, treino_y)