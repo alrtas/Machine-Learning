!pip install graphviz==0.10
!apt-get install graphviz

import pandas as pd
uri = "https://gist.githubusercontent.com/guilhermesilveira/4d1d4a16ccbf6ea4e0a64a38a24ec884/raw/afd05cb0c796d18f3f5a6537053ded308ba94bf7/car-prices.csv"
dados = pd.read_csv(uri)
a_renomear = {
    'mileage_per_year':'milhas_por_ano',
    'model_year':'ano_do_modelo',
    'price':'preco',
    'sold':'vendido'
}
dados = dados.rename(columns = a_renomear)
troca = {
    'yes':'1',
    'no':'0'
}
dados.vendido = dados.vendido.map(troca)
from datetime import datetime
dados['idade_do_modelo'] = datetime.today().year - dados.ano_do_modelo
dados['km_por_ano'] = dados.milhas_por_ano*1.60934
dados = dados.drop(columns = ["Unnamed: 0","milhas_por_ano","ano_do_modelo"], axis = 1)

x = dados[["preco","idade_do_modelo","km_por_ano"]]
y = dados["vendido"]


from sklearn.model_selection import train_test_split
from sklearn.svm import LinearSVC
from sklearn.metrics import accuracy_score
import numpy as np
from sklearn.dummy import DummyClassifier

SEED = 5
np.random.seed(SEED)
treino_x, teste_x, treino_y, teste_y = train_test_split(x, y, test_size = 0.25, stratify = y)
print("Treino comm %d elementos e teste com %d elementos" % (len(treino_x), len(teste_x)))

modelo = LinearSVC()
modelo.fit(treino_x, treino_y)
previsoes = modelo.predict(teste_x)
acuracia = accuracy_score(teste_y, previsoes)*100
print("Acuracia do Linear SVC: %.2f%%"%acuracia)


dummy_stratified = DummyClassifier()
dummy_stratified.fit(treino_x, treino_y)
acuracia = dummy_stratified.score(teste_x, teste_y)
print("Acuracia dummy: %.2f%%"%(acuracia*100))

dummy_mostfrequent = DummyClassifier()
dummy_mostfrequent.fit(treino_x, treino_y)
acuracia = dummy_mostfrequent.score(teste_x, teste_y)
#print("Acuracia most frequent: %.2f%%"%(acuracia*100))


from sklearn.svm import SVC
from sklearn.preprocessing import StandardScaler


SEED = 5
np.random.seed(SEED)
raw_treino_x, raw_teste_x, treino_y, teste_y = train_test_split(x, y, test_size = 0.25, stratify = y)

scaler = StandardScaler()
scaler.fit(raw_treino_x)
treino_x = scaler.transform(raw_treino_x)
teste_x = scaler.transform(raw_teste_x)

modelo = SVC()
modelo.fit(treino_x, treino_y)
previsoes = modelo.predict(teste_x)
acuracia = accuracy_score(teste_y, previsoes)*100
print("Acuracia do SVC: %.2f%%"%acuracia)


from sklearn.tree import DecisionTreeClassifier
from sklearn.tree import export_graphviz
import graphviz
modelo = DecisionTreeClassifier(max_depth=4)
modelo.fit(raw_treino_x, treino_y)
previsoes = modelo.predict(raw_teste_x)
acuracia = accuracy_score(teste_y, previsoes)*100
print("Acuracia do DTC: %.2f%%"%acuracia)

features = x.columns
dot_data = export_graphviz(modelo, out_file=None,
                           filled = True,
                           rounded =True,
                           feature_names = features,
                           class_names = ["não","sim"])
grafico = graphviz.Source(dot_data)
grafico